{
 "cells": [
  {
   "cell_type": "markdown",
   "metadata": {},
   "source": [
    "# Part 1: Word Length"
   ]
  },
  {
   "cell_type": "markdown",
   "metadata": {},
   "source": [
    "## Goals\n",
    "Include here some discussion of the goals of the analysis"
   ]
  },
  {
   "cell_type": "markdown",
   "metadata": {},
   "source": [
    "## What I expect to find\n",
    "Informal version: I expect Smith's poetry for children to include a preponderance of shorter words. But also, knowing her work I also expect it to include more latin words (because that's part of her pedagogy)"
   ]
  },
  {
   "cell_type": "markdown",
   "metadata": {},
   "source": [
    "## Notes on design\n",
    "I need the analysis to accomplish a few specific things:\n",
    "* I need to test for word length, and sort the words in each text into groups by length\n",
    "* I need to calculate the average word length\n",
    "* I need to calculate the proportion of words that are longer and shorter than the average"
   ]
  },
  {
   "cell_type": "code",
   "execution_count": 46,
   "metadata": {
    "collapsed": true
   },
   "outputs": [],
   "source": [
    "#bring in the libraries I need\n",
    "import math"
   ]
  },
  {
   "cell_type": "code",
   "execution_count": 38,
   "metadata": {},
   "outputs": [
    {
     "data": {
      "text/plain": [
       "<_io.TextIOWrapper name='../data/smith_conversations.txt' mode='r' encoding='utf-8'>"
      ]
     },
     "execution_count": 38,
     "metadata": {},
     "output_type": "execute_result"
    }
   ],
   "source": [
    "#First, open the two text files into file objects \n",
    "    #(so that RStudio has it in primary memory)\n",
    "open('../data/barbauld_poems.txt', encoding = 'utf-8')\n",
    "open('../data/smith_conversations.txt', encoding = 'utf-8')"
   ]
  },
  {
   "cell_type": "code",
   "execution_count": 39,
   "metadata": {},
   "outputs": [
    {
     "name": "stdout",
     "output_type": "stream",
     "text": [
      "<class 'str'>\n",
      "<class 'str'>\n"
     ]
    }
   ],
   "source": [
    "# Open the files and read them, saving them as a string\n",
    "barbauld_intake_string = open('../data/barbauld_poems.txt', encoding= 'utf-8').read() \n",
    "smith_intake_string = open('../data/smith_conversations.txt', encoding= 'utf-8').read()\n",
    "#peek at the type just to confirm it's doing the right thing\n",
    "print(type(smith_intake_string))\n",
    "print(type(barbauld_intake_string))"
   ]
  },
  {
   "cell_type": "code",
   "execution_count": 40,
   "metadata": {},
   "outputs": [
    {
     "name": "stdout",
     "output_type": "stream",
     "text": [
      "\n",
      "\n",
      "\n",
      "\n",
      "Conversation the First.\n",
      "\n",
      "Poems.\n",
      "\n",
      "\n",
      "To a Green-chafer, on a white Rose.\n",
      "\n",
      "\n",
      "To a Lady-bird.\n",
      "\n",
      "\n",
      "The Sn\n",
      "\n",
      "\n",
      "\n",
      "\n",
      "\n",
      "Corsica.\n",
      "\n",
      "\n",
      "\n",
      "\n",
      "―― A manly race\n",
      "Of unſubmitting ſpirit, wiſe and brave;\n",
      "Who ſtill thro' bleeding a\n"
     ]
    }
   ],
   "source": [
    "#peek at the first 100 characters to see what's in there, just to be sure...\n",
    "print(smith_intake_string[:100])\n",
    "print(barbauld_intake_string[:100])"
   ]
  },
  {
   "cell_type": "code",
   "execution_count": 41,
   "metadata": {},
   "outputs": [
    {
     "name": "stdout",
     "output_type": "stream",
     "text": [
      "['\\n', '\\n', '\\n', '\\n', '\\n', 'C', 'o', 'r', 's', 'i', 'c', 'a', '\\n', '\\n', '\\n', '\\n', '\\n', ' ', 'A', ' ', 'm', 'a', 'n', 'l', 'y', ' ', 'r', 'a', 'c', 'e', '\\n', 'O', 'f', ' ', 'u', 'n', 'ſ', 'u', 'b', 'm', 'i', 't', 't', 'i', 'n', 'g', ' ', 'ſ', 'p', 'i', 'r', 'i', 't', ' ', 'w', 'i', 'ſ', 'e', ' ', 'a', 'n', 'd', ' ', 'b', 'r', 'a', 'v', 'e', '\\n', 'W', 'h', 'o', ' ', 'ſ', 't', 'i', 'l', 'l', ' ', 't', 'h', 'r', 'o', ' ', 'b', 'l', 'e', 'e', 'd', 'i', 'n', 'g', ' ', 'a', 'g', 'e', 's', ' ', 'ſ', 't']\n",
      "['\\n', '\\n', '\\n', '\\n', 'C', 'o', 'n', 'v', 'e', 'r', 's', 'a', 't', 'i', 'o', 'n', ' ', 't', 'h', 'e', ' ', 'F', 'i', 'r', 's', 't', '\\n', '\\n', 'P', 'o', 'e', 'm', 's', '\\n', '\\n', '\\n', 'T', 'o', ' ', 'a', ' ', 'G', 'r', 'e', 'e', 'n', 'c', 'h', 'a', 'f', 'e', 'r', ' ', 'o', 'n', ' ', 'a', ' ', 'w', 'h', 'i', 't', 'e', ' ', 'R', 'o', 's', 'e', '\\n', '\\n', '\\n', 'T', 'o', ' ', 'a', ' ', 'L', 'a', 'd', 'y', 'b', 'i', 'r', 'd', '\\n', '\\n', '\\n', 'T', 'h', 'e', ' ', 'S', 'n', 'a', 'i', 'l', '\\n', '\\n', '\\n', 'A']\n"
     ]
    }
   ],
   "source": [
    "#Strip out punctuation, by testing each character against a punctuation list\n",
    "punct_list = ['―', '!', '\"', '#', '$', '%', '&', \"'\", '(', ')', '*', '+', ',', '-', '.', '/', ':', ';', '<', '=', '>', '?', '@', '[', '\\\\', ']', '^', '_', '`', '{', '|', '}', '~']\n",
    "barbauld_char_list = [char for char in barbauld_intake_string if char not in punct_list]\n",
    "smith_char_list = [char for char in smith_intake_string if char not in punct_list]\n",
    "#peek at the first 100 characters to make sure we're on track\n",
    "print(barbauld_char_list[:100])\n",
    "print(smith_char_list[:100])"
   ]
  },
  {
   "cell_type": "code",
   "execution_count": 42,
   "metadata": {},
   "outputs": [
    {
     "name": "stdout",
     "output_type": "stream",
     "text": [
      "\n",
      "\n",
      "\n",
      "\n",
      "\n",
      "Corsica\n",
      "\n",
      "\n",
      "\n",
      "\n",
      " A manly race\n",
      "Of unſubmitting ſpirit wiſe and brave\n",
      "Who ſtill thro bleeding ages ſt\n",
      "\n",
      "\n",
      "\n",
      "\n",
      "Conversation the First\n",
      "\n",
      "Poems\n",
      "\n",
      "\n",
      "To a Greenchafer on a white Rose\n",
      "\n",
      "\n",
      "To a Ladybird\n",
      "\n",
      "\n",
      "The Snail\n",
      "\n",
      "\n",
      "A\n"
     ]
    }
   ],
   "source": [
    "#join the elements back up into a string\n",
    "barbauld_cleaned_string = (''.join(barbauld_char_list))\n",
    "smith_cleaned_string = (''.join(smith_char_list))\n",
    "print(barbauld_cleaned_string[:100])\n",
    "print(smith_cleaned_string[:100])"
   ]
  },
  {
   "cell_type": "code",
   "execution_count": 43,
   "metadata": {},
   "outputs": [
    {
     "name": "stdout",
     "output_type": "stream",
     "text": [
      "\n",
      "\n",
      "\n",
      "\n",
      "\n",
      "corsica\n",
      "\n",
      "\n",
      "\n",
      "\n",
      " a manly race\n",
      "of unſubmitting ſpirit wiſe and brave\n",
      "who ſtill thro bleeding ages ſt\n",
      "\n",
      "\n",
      "\n",
      "\n",
      "conversation the first\n",
      "\n",
      "poems\n",
      "\n",
      "\n",
      "to a greenchafer on a white rose\n",
      "\n",
      "\n",
      "to a ladybird\n",
      "\n",
      "\n",
      "the snail\n",
      "\n",
      "\n",
      "a\n"
     ]
    }
   ],
   "source": [
    "#generate an all-lowercase version of the text to simplify analysis\n",
    "barbauld_lower_cleaned_string = barbauld_cleaned_string.lower()\n",
    "smith_lower_cleaned_string = smith_cleaned_string.lower()\n",
    "print(barbauld_lower_cleaned_string[:100])\n",
    "print(smith_lower_cleaned_string[:100])"
   ]
  },
  {
   "cell_type": "code",
   "execution_count": 44,
   "metadata": {
    "collapsed": true
   },
   "outputs": [],
   "source": [
    "#split the barbauld string into words with the split method\n",
    "barbauld_word_list = barbauld_lower_cleaned_string.split()\n",
    "smith_word_list = smith_lower_cleaned_string.split()"
   ]
  },
  {
   "cell_type": "code",
   "execution_count": 72,
   "metadata": {},
   "outputs": [
    {
     "name": "stdout",
     "output_type": "stream",
     "text": [
      "There are:\n",
      "\n",
      "14195 total words\n",
      "296 1-letter words, 0.0209 %\n",
      "1654 2-letter words, 0.1165 %\n",
      "3164 3-letter words, 0.2229 %\n",
      "2857 4-letter words, 0.2013 %\n",
      "2313 5-letter words, 0.1629 %\n",
      "1595 6-letter words, 0.1124 %\n",
      "1147 7-letter words, 0.0808 %\n",
      "626 8-letter words, 0.0441 %\n",
      "345 9-letter words, 0.0243 %\n",
      "147 10-letter words, 0.0104 %\n",
      "29 11-letter words, 0.002 %\n",
      "14 12-letter words, 0.001 %\n",
      "7 13-letter words, 0.0005 %\n",
      "1 14-letter words, 0.0001 %\n",
      "0 15-letter words, 0.0 %\n",
      "0 16-letter words, 0.0 %\n",
      "0 words with more than 16 letters, 0.0 %\n",
      "[0.0209, 0.1165, 0.2229, 0.2013, 0.1629, 0.1124, 0.0808, 0.0441, 0.0243, 0.0104, 0.002, 0.001, 0.0005, 0.0001, 0.0, 0.0, 0.0]\n",
      "Average word length is 4.498978513561113\n",
      "Total words of more than 4 letters: 6224\n",
      "Percent of words with more than 4 letters: 0.43846424797463895\n",
      "Total words of more than 4 letters: 51\n",
      "Percent of words with more than 10 letters: 0.003592814371257485\n"
     ]
    }
   ],
   "source": [
    "#sort words into groups by number of letters\n",
    "def summarizeWordsByLength(input_list):\n",
    "    word_count1 = 0\n",
    "    word_count2 = 0\n",
    "    word_count3 = 0\n",
    "    word_count4 = 0\n",
    "    word_count5 = 0\n",
    "    word_count6 = 0\n",
    "    word_count7 = 0\n",
    "    word_count8 = 0\n",
    "    word_count9 = 0\n",
    "    word_count10 = 0\n",
    "    word_count11 = 0\n",
    "    word_count12 = 0\n",
    "    word_count13 = 0\n",
    "    word_count14 = 0\n",
    "    word_count15 = 0\n",
    "    word_count16 = 0\n",
    "    word_count_greater = 0\n",
    "    for word in input_list:\n",
    "        if len(word) == 1:\n",
    "            word_count1 = word_count1 + 1\n",
    "        elif len(word) == 2:\n",
    "              word_count2 = word_count2 + 1\n",
    "        elif len(word) == 3:\n",
    "              word_count3 = word_count3 + 1\n",
    "        elif len(word) == 4:\n",
    "              word_count4 = word_count4 + 1\n",
    "        elif len(word) == 5:\n",
    "              word_count5 = word_count5 + 1\n",
    "        elif len(word) == 6:\n",
    "              word_count6 = word_count6 + 1\n",
    "        elif len(word) == 7:\n",
    "              word_count7 = word_count7 + 1\n",
    "        elif len(word) == 8:\n",
    "              word_count8 = word_count8 + 1\n",
    "        elif len(word) == 9:\n",
    "              word_count9 = word_count9 + 1\n",
    "        elif len(word) == 10:\n",
    "              word_count10 = word_count10 + 1\n",
    "        elif len(word) == 11:\n",
    "              word_count11 = word_count11 + 1\n",
    "        elif len(word) == 12:\n",
    "              word_count12 = word_count12 + 1\n",
    "        elif len(word) == 13:\n",
    "              word_count13 = word_count13 + 1\n",
    "        elif len(word) == 14:\n",
    "              word_count14 = word_count14 + 1\n",
    "        elif len(word) == 15:\n",
    "              word_count15 = word_count15 + 1\n",
    "        elif len(word) == 16:\n",
    "              word_count16 = word_count16 + 1\n",
    "        elif len(word) > 16:\n",
    "              word_count_greater = word_count_greater + 1\n",
    "\n",
    "    #calculate the percentage of each category\n",
    "    \n",
    "    percent_1letter = round(word_count1/len(barbauld_word_list), 4)\n",
    "    percent_2letter = round(word_count2/len(barbauld_word_list), 4)\n",
    "    percent_3letter = round(word_count3/len(barbauld_word_list), 4)\n",
    "    percent_4letter = round(word_count4/len(barbauld_word_list), 4)\n",
    "    percent_5letter = round(word_count5/len(barbauld_word_list), 4)\n",
    "    percent_6letter = round(word_count6/len(barbauld_word_list), 4)\n",
    "    percent_7letter = round(word_count7/len(barbauld_word_list), 4)\n",
    "    percent_8letter = round(word_count8/len(barbauld_word_list), 4)\n",
    "    percent_9letter = round(word_count9/len(barbauld_word_list), 4)\n",
    "    percent_10letter = round(word_count10/len(barbauld_word_list), 4)\n",
    "    percent_11letter = round(word_count11/len(barbauld_word_list), 4)\n",
    "    percent_12letter = round(word_count12/len(barbauld_word_list), 4)\n",
    "    percent_13letter = round(word_count13/len(barbauld_word_list), 4)\n",
    "    percent_14letter = round(word_count14/len(barbauld_word_list), 4)\n",
    "    percent_15letter = round(word_count15/len(barbauld_word_list), 4)\n",
    "    percent_16letter = round(word_count16/len(barbauld_word_list), 4)\n",
    "    percent_moreletter = round(word_count_greater/len(barbauld_word_list), 4)\n",
    "    \n",
    "    #calculate the average length\n",
    "    total_letters = word_count1+2*word_count2+3*word_count3+4*word_count4+5*word_count5+6*word_count6+7*word_count7+8*word_count8+9*word_count9+10*word_count10+11*word_count11+12*word_count12+13*word_count13+14*word_count14+15*word_count15+16*word_count16\n",
    "    \n",
    "    average_word_length = total_letters/len(input_list)\n",
    "    \n",
    "    print(\"There are:\\n\")\n",
    "    print(str(len(input_list))+\" total words\")\n",
    "    print(str(word_count1)+\" 1-letter words, \"+str(percent_1letter)+\" %\")\n",
    "    print(str(word_count2)+\" 2-letter words, \"+str(percent_2letter)+\" %\")\n",
    "    print(str(word_count3)+\" 3-letter words, \"+str(percent_3letter)+\" %\")\n",
    "    print(str(word_count4)+\" 4-letter words, \"+str(percent_4letter)+\" %\")\n",
    "    print(str(word_count5)+\" 5-letter words, \"+str(percent_5letter)+\" %\")\n",
    "    print(str(word_count6)+\" 6-letter words, \"+str(percent_6letter)+\" %\")\n",
    "    print(str(word_count7)+\" 7-letter words, \"+str(percent_7letter)+\" %\")\n",
    "    print(str(word_count8)+\" 8-letter words, \"+str(percent_8letter)+\" %\")\n",
    "    print(str(word_count9)+\" 9-letter words, \"+str(percent_9letter)+\" %\")\n",
    "    print(str(word_count10)+\" 10-letter words, \"+str(percent_10letter)+\" %\")\n",
    "    print(str(word_count11)+\" 11-letter words, \"+str(percent_11letter)+\" %\")\n",
    "    print(str(word_count12)+\" 12-letter words, \"+str(percent_12letter)+\" %\")\n",
    "    print(str(word_count13)+\" 13-letter words, \"+str(percent_13letter)+\" %\")\n",
    "    print(str(word_count14)+\" 14-letter words, \"+str(percent_14letter)+\" %\")\n",
    "    print(str(word_count15)+\" 15-letter words, \"+str(percent_15letter)+\" %\")\n",
    "    print(str(word_count16)+\" 16-letter words, \"+str(percent_16letter)+\" %\")\n",
    "    print(str(word_count_greater)+\" words with more than 16 letters, \"+str(percent_moreletter)+\" %\")\n",
    "    \n",
    "    percent_list = [percent_1letter, percent_2letter, percent_3letter, percent_4letter, \n",
    "                percent_5letter, percent_6letter, percent_7letter, percent_8letter, \n",
    "               percent_9letter, percent_10letter, percent_11letter, percent_12letter, \n",
    "               percent_13letter, percent_14letter, percent_15letter, percent_16letter, \n",
    "               percent_moreletter]\n",
    "    \n",
    "    totalMoreThan4 = word_count5+word_count6+word_count7+word_count8+word_count9+word_count10+word_count11+word_count12+word_count13+word_count14+word_count15+word_count16+word_count_greater\n",
    "    percentMoreThan4 = totalMoreThan4/len(barbauld_word_list)\n",
    "    totalMoreThan10 = word_count11+word_count12+word_count13+word_count14+word_count15+word_count16+word_count_greater\n",
    "    percentMoreThan4 = totalMoreThan4/len(barbauld_word_list)\n",
    "    percentMoreThan10 = totalMoreThan10/len(barbauld_word_list)\n",
    "    \n",
    "    barbauld_percent_list = percent_list\n",
    "    print(barbauld_percent_list)\n",
    "    print(\"Average word length is \"+str(average_word_length))\n",
    "    print(\"Total words of more than 4 letters: \"+str(totalMoreThan4))\n",
    "    print(\"Percent of words with more than 4 letters: \"+str(percentMoreThan4))\n",
    "    print(\"Total words of more than 4 letters: \"+str(totalMoreThan10))\n",
    "    print(\"Percent of words with more than 10 letters: \"+str(percentMoreThan10))\n",
    "\n",
    "    \n",
    "input_list = barbauld_word_list\n",
    "summarizeWordsByLength(input_list)\n",
    "\n"
   ]
  },
  {
   "cell_type": "code",
   "execution_count": 73,
   "metadata": {},
   "outputs": [
    {
     "name": "stdout",
     "output_type": "stream",
     "text": [
      "There are:\n",
      "\n",
      "28957 total words\n",
      "1081 1-letter words, 0.0762 %\n",
      "5144 2-letter words, 0.3624 %\n",
      "6234 3-letter words, 0.4392 %\n",
      "5431 4-letter words, 0.3826 %\n",
      "3595 5-letter words, 0.2533 %\n",
      "2814 6-letter words, 0.1982 %\n",
      "1842 7-letter words, 0.1298 %\n",
      "1150 8-letter words, 0.081 %\n",
      "789 9-letter words, 0.0556 %\n",
      "422 10-letter words, 0.0297 %\n",
      "225 11-letter words, 0.0159 %\n",
      "134 12-letter words, 0.0094 %\n",
      "47 13-letter words, 0.0033 %\n",
      "27 14-letter words, 0.0019 %\n",
      "12 15-letter words, 0.0008 %\n",
      "6 16-letter words, 0.0004 %\n",
      "4 words with more than 16 letters, 0.0003 %\n",
      "[0.0762, 0.3624, 0.4392, 0.3826, 0.2533, 0.1982, 0.1298, 0.081, 0.0556, 0.0297, 0.0159, 0.0094, 0.0033, 0.0019, 0.0008, 0.0004, 0.0003]\n",
      "Average word length is 4.331146182270262\n",
      "Total words of more than 4 letters: 11067\n",
      "Percent of words with more than 4 letters: 0.7796407185628742\n",
      "Total words of more than 4 letters: 455\n",
      "Percent of words with more than 10 letters: 0.0320535399788658\n"
     ]
    }
   ],
   "source": [
    "# do it again for smith\n",
    "input_list = smith_word_list\n",
    "summarizeWordsByLength(input_list)"
   ]
  },
  {
   "cell_type": "markdown",
   "metadata": {},
   "source": [
    "# Part 2: Pronouns"
   ]
  },
  {
   "cell_type": "markdown",
   "metadata": {},
   "source": [
    "## Goals\n",
    "Include here some discussion of the goals of the analysis"
   ]
  },
  {
   "cell_type": "markdown",
   "metadata": {},
   "source": [
    "## What I expect to find"
   ]
  },
  {
   "cell_type": "markdown",
   "metadata": {},
   "source": [
    "## Notes on design\n",
    "\n",
    "I need the analysis to accomplish a few specific things:\n",
    "* I need to create lists of personal pronouns, possessive pronouns, and other specific word categories, so that I can test for words that fall into these categories\n"
   ]
  }
 ],
 "metadata": {
  "kernelspec": {
   "display_name": "Python 3",
   "language": "python",
   "name": "python3"
  },
  "language_info": {
   "codemirror_mode": {
    "name": "ipython",
    "version": 3
   },
   "file_extension": ".py",
   "mimetype": "text/x-python",
   "name": "python",
   "nbconvert_exporter": "python",
   "pygments_lexer": "ipython3",
   "version": "3.6.3"
  }
 },
 "nbformat": 4,
 "nbformat_minor": 2
}
